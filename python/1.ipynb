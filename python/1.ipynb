{
 "cells": [
  {
   "attachments": {},
   "cell_type": "markdown",
   "metadata": {},
   "source": [
    "FUZZY SETS\n",
    "Basics operations of fuzzy seta and Logics\n"
   ]
  },
  {
   "attachments": {},
   "cell_type": "markdown",
   "metadata": {},
   "source": [
    "UNION IN FUZZY SETS"
   ]
  },
  {
   "attachments": {},
   "cell_type": "markdown",
   "metadata": {},
   "source": [
    "Consider 2 Fuzzy Sets denoted by A and  B, then let’s consider Y be the Union of them, then for every member of  A and  B, Y will be:\n",
    "\n",
    " degree_of_membership(Y)= max(degree_of_membership(A), degree_of_membership(B)) "
   ]
  },
  {
   "cell_type": "code",
   "execution_count": 1,
   "metadata": {
    "tags": []
   },
   "outputs": [
    {
     "name": "stdout",
     "output_type": "stream",
     "text": [
      "The First Fuzzy Set is : {'a': 0.2, 'b': 0.3, 'c': 0.6, 'd': 0.6}\n",
      "The Second Fuzzy Set is : {'a': 0.9, 'b': 0.9, 'c': 0.4, 'd': 0.5}\n",
      "Fuzzy Set Union is : {'a': 0.9, 'b': 0.9, 'c': 0.6, 'd': 0.6}\n"
     ]
    }
   ],
   "source": [
    "A = dict()\n",
    "B = dict()\n",
    "Y = dict()\n",
    "\n",
    "A = {\"a\": 0.2, \"b\": 0.3, \"c\": 0.6, \"d\": 0.6}\n",
    "B = {\"a\": 0.9, \"b\": 0.9, \"c\": 0.4, \"d\": 0.5}\n",
    "\n",
    "print('The First Fuzzy Set is :', A)\n",
    "print('The Second Fuzzy Set is :', B)\n",
    "\n",
    "\n",
    "for A_key, B_key in zip(A, B):\n",
    "\tA_value = A[A_key]\n",
    "\tB_value = B[B_key]\n",
    "\n",
    "\tif A_value > B_value:\n",
    "\t\tY[A_key] = A_value\n",
    "\telse:\n",
    "\t\tY[B_key] = B_value\n",
    "\t\t\n",
    "print('Fuzzy Set Union is :', Y)\n"
   ]
  },
  {
   "attachments": {},
   "cell_type": "markdown",
   "metadata": {},
   "source": [
    "INTERSECTION"
   ]
  },
  {
   "attachments": {},
   "cell_type": "markdown",
   "metadata": {},
   "source": [
    "degree_of_membership(Y)= min(degree_of_membership(A), degree_of_membership(B)) "
   ]
  },
  {
   "cell_type": "code",
   "execution_count": 11,
   "metadata": {},
   "outputs": [
    {
     "name": "stdout",
     "output_type": "stream",
     "text": [
      "The First Fuzzy Set is : {'a': 0.2, 'b': 0.3, 'c': 0.6, 'd': 0.6}\n",
      "The Second Fuzzy Set is : {'a': 0.9, 'b': 0.9, 'c': 0.4, 'd': 0.5}\n",
      "Fuzzy Set Intersection is : {'a': 0.2, 'b': 0.3, 'c': 0.4, 'd': 0.5}\n"
     ]
    }
   ],
   "source": [
    "A = dict()\n",
    "B = dict()\n",
    "Y = dict()\n",
    "\n",
    "A = {\"a\": 0.2, \"b\": 0.3, \"c\": 0.6, \"d\": 0.6}\n",
    "B = {\"a\": 0.9, \"b\": 0.9, \"c\": 0.4, \"d\": 0.5}\n",
    "\n",
    "print('The First Fuzzy Set is :', A)\n",
    "print('The Second Fuzzy Set is :', B)\n",
    "\n",
    "\n",
    "for A_key, B_key in zip(A, B):\n",
    "\tA_value = A[A_key]\n",
    "\tB_value = B[B_key]\n",
    "\n",
    "\tif A_value < B_value:\n",
    "\t\tY[A_key] = A_value\n",
    "\telse:\n",
    "\t\tY[B_key] = B_value\n",
    "print('Fuzzy Set Intersection is :', Y)\n"
   ]
  },
  {
   "attachments": {},
   "cell_type": "markdown",
   "metadata": {},
   "source": [
    "COMPLEMENT"
   ]
  },
  {
   "attachments": {},
   "cell_type": "markdown",
   "metadata": {},
   "source": [
    "degree_of_membership(Y)= 1 - degree_of_membership(A)"
   ]
  },
  {
   "cell_type": "code",
   "execution_count": 14,
   "metadata": {},
   "outputs": [
    {
     "name": "stdout",
     "output_type": "stream",
     "text": [
      "Fuzzy Set Complement is : {'a': 0.8, 'b': 0.7, 'c': 0.4, 'd': 0.4}\n"
     ]
    }
   ],
   "source": [
    "for A_key in A:\n",
    "    Y[A_key]= 1-A[A_key]\n",
    "\t\t\n",
    "print('Fuzzy Set Complement is :', Y)\n"
   ]
  },
  {
   "attachments": {},
   "cell_type": "markdown",
   "metadata": {},
   "source": [
    "DIFFERENCE"
   ]
  },
  {
   "attachments": {},
   "cell_type": "markdown",
   "metadata": {},
   "source": [
    "degree_of_membership(Y)= min(degree_of_membership(A), 1- degree_of_membership(B)) "
   ]
  },
  {
   "cell_type": "code",
   "execution_count": 17,
   "metadata": {},
   "outputs": [
    {
     "name": "stdout",
     "output_type": "stream",
     "text": [
      "The First Fuzzy Set is : {'a': 0.2, 'b': 0.3, 'c': 0.6, 'd': 0.6}\n",
      "The Second Fuzzy Set is : {'a': 0.9, 'b': 0.9, 'c': 0.4, 'd': 0.5}\n",
      "Fuzzy Set Difference is : {'a': 0.09999999999999998, 'b': 0.09999999999999998, 'c': 0.6, 'd': 0.5}\n"
     ]
    }
   ],
   "source": [
    "A = dict()\n",
    "B = dict()\n",
    "Y = dict()\n",
    "\n",
    "A = {\"a\": 0.2, \"b\": 0.3, \"c\": 0.6, \"d\": 0.6}\n",
    "B = {\"a\": 0.9, \"b\": 0.9, \"c\": 0.4, \"d\": 0.5}\n",
    "\n",
    "print('The First Fuzzy Set is :', A)\n",
    "print('The Second Fuzzy Set is :', B)\n",
    "\n",
    "\n",
    "for A_key, B_key in zip(A, B):\n",
    "\tA_value = A[A_key]\n",
    "\tB_value = B[B_key]\n",
    "\tB_value = 1 - B_value\n",
    "\n",
    "\tif A_value < B_value:\n",
    "\t\tY[A_key] = A_value\n",
    "\telse:\n",
    "\t\tY[B_key] = B_value\n",
    "\t\t\n",
    "print('Fuzzy Set Difference is :', Y)\n"
   ]
  },
  {
   "attachments": {},
   "cell_type": "markdown",
   "metadata": {},
   "source": [
    "### ADD AND SQUARING \n"
   ]
  },
  {
   "cell_type": "code",
   "execution_count": 2,
   "metadata": {},
   "outputs": [
    {
     "name": "stdout",
     "output_type": "stream",
     "text": [
      "{'6': 0.6, '7': 0.2, '8': 0.7, '4': 0.8, '3': 0.1, '5': 1.0}\n",
      "{'3': 0.010000000000000002, '4': 0.6400000000000001, '5': 0.25}\n",
      "{'1': 1, '2': 0, '3': 1}\n"
     ]
    }
   ],
   "source": [
    "class Fuzzy_Set:\n",
    "\n",
    "    def __init__(self, set):\n",
    "        self.set = set\n",
    "\n",
    "    def __add__(self, other):\n",
    "        retset = {}\n",
    "        for item in set(self.set.keys()).union(set(other.set.keys())):\n",
    "            retset[item] = self.set.get(item, 0) + other.set.get(item, 0)\n",
    "\n",
    "        return retset\n",
    "\n",
    "    def __pow__(self, power, modulo=None):\n",
    "        if modulo:\n",
    "            return {k:v**power%modulo for k, v in self.set.items()}\n",
    "        else:\n",
    "            return {k:v**power for k, v in self.set.items()}\n",
    "\n",
    "    def __mod__(self, other):\n",
    "        return pow(Fuzzy_Set(self.set), 1, other)\n",
    "\n",
    "\n",
    "\n",
    "if __name__ == '__main__':\n",
    "    s1 = Fuzzy_Set({'3':0.1, '4': 0.8, '5': 0.5})\n",
    "    s2 = Fuzzy_Set({'5': .5, '6':0.6, '7': 0.2, '8': 0.7})\n",
    "    print(s1 + s2)\n",
    "    print(s1**2)\n",
    "    print(Fuzzy_Set({'1': 1, '2': 2, '3': 3})%2)"
   ]
  },
  {
   "attachments": {},
   "cell_type": "markdown",
   "metadata": {},
   "source": [
    "### CARTIRANTION PRODUCT AND MINMAX OPERATIONS\n"
   ]
  },
  {
   "cell_type": "code",
   "execution_count": 4,
   "metadata": {},
   "outputs": [
    {
     "name": "stdout",
     "output_type": "stream",
     "text": [
      "MENU:\n",
      "----\n",
      "1->Cartesian Product\n",
      "2->Minmax Composition\n",
      "3->Exit\n",
      "Enter elements for A:\n"
     ]
    },
    {
     "ename": "ValueError",
     "evalue": "could not convert string to float: ''",
     "output_type": "error",
     "traceback": [
      "\u001b[0;31m---------------------------------------------------------------------------\u001b[0m",
      "\u001b[0;31mValueError\u001b[0m                                Traceback (most recent call last)",
      "\u001b[0;32m/var/folders/x4/lrv45ts1577ccm82xr7v5gy80000gn/T/ipykernel_4264/1204334423.py\u001b[0m in \u001b[0;36m<module>\u001b[0;34m\u001b[0m\n\u001b[1;32m     78\u001b[0m     \u001b[0mop\u001b[0m\u001b[0;34m=\u001b[0m\u001b[0mint\u001b[0m\u001b[0;34m(\u001b[0m\u001b[0minput\u001b[0m\u001b[0;34m(\u001b[0m\u001b[0;34m\"Enter Your Choice: \"\u001b[0m\u001b[0;34m)\u001b[0m\u001b[0;34m)\u001b[0m\u001b[0;34m\u001b[0m\u001b[0;34m\u001b[0m\u001b[0m\n\u001b[1;32m     79\u001b[0m     \u001b[0;32mif\u001b[0m \u001b[0mop\u001b[0m\u001b[0;34m==\u001b[0m\u001b[0;36m1\u001b[0m\u001b[0;34m:\u001b[0m\u001b[0;34m\u001b[0m\u001b[0;34m\u001b[0m\u001b[0m\n\u001b[0;32m---> 80\u001b[0;31m         \u001b[0mcartesian\u001b[0m\u001b[0;34m(\u001b[0m\u001b[0;34m)\u001b[0m\u001b[0;34m\u001b[0m\u001b[0;34m\u001b[0m\u001b[0m\n\u001b[0m\u001b[1;32m     81\u001b[0m     \u001b[0;32melif\u001b[0m \u001b[0mop\u001b[0m\u001b[0;34m==\u001b[0m\u001b[0;36m2\u001b[0m\u001b[0;34m:\u001b[0m\u001b[0;34m\u001b[0m\u001b[0;34m\u001b[0m\u001b[0m\n\u001b[1;32m     82\u001b[0m         \u001b[0mminmax\u001b[0m\u001b[0;34m(\u001b[0m\u001b[0;34m)\u001b[0m\u001b[0;34m\u001b[0m\u001b[0;34m\u001b[0m\u001b[0m\n",
      "\u001b[0;32m/var/folders/x4/lrv45ts1577ccm82xr7v5gy80000gn/T/ipykernel_4264/1204334423.py\u001b[0m in \u001b[0;36mcartesian\u001b[0;34m()\u001b[0m\n\u001b[1;32m      5\u001b[0m     \u001b[0mprint\u001b[0m\u001b[0;34m(\u001b[0m\u001b[0;34m\"Enter elements for A:\"\u001b[0m\u001b[0;34m)\u001b[0m\u001b[0;34m\u001b[0m\u001b[0;34m\u001b[0m\u001b[0m\n\u001b[1;32m      6\u001b[0m     \u001b[0;32mfor\u001b[0m \u001b[0mi\u001b[0m \u001b[0;32min\u001b[0m \u001b[0mrange\u001b[0m\u001b[0;34m(\u001b[0m\u001b[0;36m0\u001b[0m\u001b[0;34m,\u001b[0m \u001b[0mn\u001b[0m\u001b[0;34m)\u001b[0m\u001b[0;34m:\u001b[0m\u001b[0;34m\u001b[0m\u001b[0;34m\u001b[0m\u001b[0m\n\u001b[0;32m----> 7\u001b[0;31m         \u001b[0mele\u001b[0m \u001b[0;34m=\u001b[0m \u001b[0mfloat\u001b[0m\u001b[0;34m(\u001b[0m\u001b[0minput\u001b[0m\u001b[0;34m(\u001b[0m\u001b[0;34m)\u001b[0m\u001b[0;34m)\u001b[0m\u001b[0;34m\u001b[0m\u001b[0;34m\u001b[0m\u001b[0m\n\u001b[0m\u001b[1;32m      8\u001b[0m         \u001b[0mA\u001b[0m\u001b[0;34m.\u001b[0m\u001b[0mappend\u001b[0m\u001b[0;34m(\u001b[0m\u001b[0mele\u001b[0m\u001b[0;34m)\u001b[0m\u001b[0;34m\u001b[0m\u001b[0;34m\u001b[0m\u001b[0m\n\u001b[1;32m      9\u001b[0m     \u001b[0mm\u001b[0m \u001b[0;34m=\u001b[0m \u001b[0mint\u001b[0m\u001b[0;34m(\u001b[0m\u001b[0minput\u001b[0m\u001b[0;34m(\u001b[0m\u001b[0;34m\"\\nEnter number of elements in second set (B): \"\u001b[0m\u001b[0;34m)\u001b[0m\u001b[0;34m)\u001b[0m\u001b[0;34m\u001b[0m\u001b[0;34m\u001b[0m\u001b[0m\n",
      "\u001b[0;31mValueError\u001b[0m: could not convert string to float: ''"
     ]
    }
   ],
   "source": [
    "def cartesian():    \n",
    "    n = int(input(\"\\nEnter number of elements in first set (A): \"))\n",
    "    A = []\n",
    "    B = []\n",
    "    print(\"Enter elements for A:\") \n",
    "    for i in range(0, n): \n",
    "        ele = float(input()) \n",
    "        A.append(ele)\n",
    "    m = int(input(\"\\nEnter number of elements in second set (B): \"))\n",
    "    print(\"Enter elements for B:\") \n",
    "    for i in range(0, m): \n",
    "        ele = float(input()) \n",
    "        B.append(ele)\n",
    "    print(\"A = {\"+str(A)[1:-1]+\"}\")\n",
    "    print(\"B = {\"+str(B)[1:-1]+\"}\")\n",
    "    cart_prod = []\n",
    "    cart_prod = [[0 for j in range(m)]for i in range(n)]\n",
    "    for i in range(n):\n",
    "        for j in range(m):\n",
    "            cart_prod[i][j] = min(A[i],B[j])\n",
    "    print(\"A x B = \")\n",
    "    for i in range(n):\n",
    "        for j in range(m):\n",
    "            print(cart_prod[i][j],end=\"  \")\n",
    "        print(\"\\n\")\n",
    "    return\n",
    "\n",
    "\n",
    "def minmax():\n",
    "    r1 = int(input(\"Enter number of rows of first relation (R1): \"))\n",
    "    c1 = int(input(\"Enter number of columns of first relation (R1): \"))\n",
    "    rel1=[[0 for i in range(c1)]for j in range(r1)]\n",
    "    print(\"Enter the elments for R:\")\n",
    "    for i in range(r1):\n",
    "        for j in range(c1):\n",
    "            rel1[i][j]=float(input())\n",
    "    \n",
    "    r2 = int(input(\"Enter number of rows of second relation (R2): \"))\n",
    "    c2 = int(input(\"Enter number of columns of second relation (R2): \"))\n",
    "    rel2=[[0 for i in range(c2)]for j in range(r2)]\n",
    "    print(\"Enter the elments for R:\")\n",
    "    for i in range(r2):\n",
    "        for j in range(c2):\n",
    "            rel2[i][j]=float(input())\n",
    "    \n",
    "    print(\"\\nR1 = \")\n",
    "    for i in range(r1):\n",
    "        for j in range(c1):\n",
    "            print(rel1[i][j],end=\" \")\n",
    "        print(\"\\n\")\n",
    "    print(\"\\nR2 = \")\n",
    "    for i in range(r2):\n",
    "        for j in range(c2):\n",
    "            print(rel2[i][j],end=\" \")\n",
    "        print(\"\\n\")\n",
    "    \n",
    "    \n",
    "    col=0\n",
    "    comp=[]\n",
    "    for i in range(r1):\n",
    "        comp.append([])\n",
    "        for j in range(c2):\n",
    "            l=[]\n",
    "            for k in range(r2):\n",
    "                l.append(min(rel1[i][k],rel2[k][j]))\n",
    "            comp[i].append(max(l))  \n",
    "    \n",
    "    print(\"\\nR1 composition R2 =\")\n",
    "    for i in range(r1):\n",
    "        for j in range(c2):\n",
    "            print(comp[i][j],end=\" \")\n",
    "        print(\"\\n\")\n",
    "    return\n",
    "\n",
    "ch=1\n",
    "while ch==1:\n",
    "    print(\"MENU:\\n----\\n1->Cartesian Product\\n2->Minmax Composition\\n3->Exit\")\n",
    "    op=int(input(\"Enter Your Choice: \"))\n",
    "    if op==1:\n",
    "        cartesian()\n",
    "    elif op==2:\n",
    "        minmax()\n",
    "    elif op==3:\n",
    "        break\n",
    "    else:\n",
    "        print(\"Wrong Choice!\")\n",
    "    ch=int(input(\"Do you wish to continue (1-Yes | 0-No): \"))\n",
    "    print(\"\\n\")\n"
   ]
  },
  {
   "attachments": {},
   "cell_type": "markdown",
   "metadata": {},
   "source": [
    "### VECTOR PRODUCT\n"
   ]
  },
  {
   "cell_type": "code",
   "execution_count": 5,
   "metadata": {},
   "outputs": [
    {
     "name": "stdout",
     "output_type": "stream",
     "text": [
      "vector product of A and B {'a': 0.18000000000000002, 'b': 0.27, 'c': 0.24, 'd': 0.3}\n"
     ]
    }
   ],
   "source": [
    "def fuzzy_vector_product(set1, set2):\n",
    "    set3 = {}\n",
    "    for key in set1:\n",
    "        set3[key] = set1[key]*set2[key]\n",
    "    return set3\n",
    "A  = {\"a\":0.2 , \"b\":0.3 , \"c\":0.6 , \"d\":0.6 }\n",
    "B  = {\"a\":0.9 , \"b\":0.9 , \"c\":0.4 , \"d\":0.5 }\n",
    "\n",
    "print(\"vector product of A and B\", fuzzy_vector_product(A,B));"
   ]
  },
  {
   "attachments": {},
   "cell_type": "markdown",
   "metadata": {},
   "source": [
    "### SCALER PRODUCT"
   ]
  },
  {
   "cell_type": "code",
   "execution_count": 6,
   "metadata": {},
   "outputs": [
    {
     "name": "stdout",
     "output_type": "stream",
     "text": [
      "scalar product  {'a': 0.4, 'b': 0.6, 'c': 1.2, 'd': 1.2}\n"
     ]
    }
   ],
   "source": [
    "def fuzzy_scalar_product(set1, alpha):\n",
    "    set2 = {}\n",
    "    for key in set1:\n",
    "        set2[key] = set1[key]*alpha\n",
    "    return set2\n",
    "\n",
    "print(\"scalar product \",fuzzy_scalar_product(A, 2))"
   ]
  }
 ],
 "metadata": {
  "kernelspec": {
   "display_name": "base",
   "language": "python",
   "name": "python3"
  },
  "language_info": {
   "codemirror_mode": {
    "name": "ipython",
    "version": 3
   },
   "file_extension": ".py",
   "mimetype": "text/x-python",
   "name": "python",
   "nbconvert_exporter": "python",
   "pygments_lexer": "ipython3",
   "version": "3.9.13 (main, Aug 25 2022, 18:29:29) \n[Clang 12.0.0 ]"
  },
  "orig_nbformat": 4,
  "vscode": {
   "interpreter": {
    "hash": "00d062ed28cbf5226cb4568ec950df9c5e438cf6cc5b007a00cc5fe04ba85cb2"
   }
  }
 },
 "nbformat": 4,
 "nbformat_minor": 2
}
